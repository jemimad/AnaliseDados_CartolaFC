{
  "nbformat": 4,
  "nbformat_minor": 0,
  "metadata": {
    "colab": {
      "name": "Carlos_Eduardo_e_Jemima_Dias.ipynb",
      "version": "0.3.2",
      "provenance": [],
      "collapsed_sections": [],
      "toc_visible": true
    },
    "kernelspec": {
      "name": "python3",
      "display_name": "Python 3"
    }
  },
  "cells": [
    {
      "cell_type": "markdown",
      "metadata": {
        "id": "9J2b5-PX-Kak",
        "colab_type": "text"
      },
      "source": [
        "# Unidade 03 - Avaliação \n",
        "\n",
        "- **Alunos(as)**:  Carlos Eduardo Alves Sarmento | Jemima Dias Nascimento\n",
        "- **Matrícula**: 20180063238 | 20180118309\n",
        "\n",
        "\n",
        "**Avisos**\n",
        "\n",
        "1. O conceito desta avaliação corresponde a **100% da terceira unidade**. Os assuntos aqui abordados fazem menção as aulas 16 a 23.\n",
        "2. O notebook deverá ser renomeado para o nome completo do discente(s) seguindo o formato: Ivanovitch_Medeiros_Dantas_da_Silva.ipynb\n",
        "3. Todas as questões devem ser respondidas através de códigos escritos em linguagem Python 3 (**verificar o tipo do runtime**) e no espaço destinado para esse fim. Criem células Markdown para destacar quando inicia e termina as questões. \n",
        "4. O notebook resultante deverá ser enviado através do Sigaa conforme tarefa cadastrada pelo professor. "
      ]
    },
    {
      "cell_type": "markdown",
      "metadata": {
        "id": "ppUOm9fYSMly",
        "colab_type": "text"
      },
      "source": [
        "[Cartola FC](https://globoesporte.globo.com/cartola-fc/) é um jogo fictício no qual as pessoas montam seus times com jogadores de futebol da vida real. O jogo é mantido pelo canal de TV por assinatura Sportv e também pela Globo, esse jogo de futebol virtual já conta com mais de 5 milhões de usuários cadastrados.\n",
        "\n",
        "A base de dados com informações e as variáveis utilizadas para caracterização e pontuação dos jogadores pode ser encontrada nesse [repositório do Github](https://github.com/henriquepgomide/caRtola/tree/master/data). \n",
        "\n",
        "- No respectivo repositório encontra-se o arquivo **dados_agregados_limpos.csv**. Em todos os problemas solicitados utilize esse arquivo como a base de dados padrão, além de **descrever os resultados através de gráficos, códigos explicativos e um texto sobre suas conclusões**.\n"
      ]
    },
    {
      "cell_type": "markdown",
      "metadata": {
        "id": "YQbKtFz05VQX",
        "colab_type": "text"
      },
      "source": [
        "**Abertura do arquivo:**"
      ]
    },
    {
      "cell_type": "markdown",
      "metadata": {
        "id": "OAiaxKQxzOUQ",
        "colab_type": "text"
      },
      "source": [
        "Primeiro, iremos abrir o arquivo e importar todas as bibliotecas necessárias."
      ]
    },
    {
      "cell_type": "code",
      "metadata": {
        "id": "UsrJE1BI5UYY",
        "colab_type": "code",
        "outputId": "d567c5ec-d598-422a-c347-956f353589b0",
        "colab": {
          "base_uri": "https://localhost:8080/",
          "height": 224
        }
      },
      "source": [
        "import pandas as pd\n",
        "import matplotlib.pyplot as plt\n",
        "import seaborn as sns\n",
        "import numpy as np\n",
        "\n",
        "cartolafc = pd.read_csv(\"dados_agregados_limpos.csv\")\n",
        "\n",
        "#visão geral do csv\n",
        "cartolafc.head()\n"
      ],
      "execution_count": 2,
      "outputs": [
        {
          "output_type": "execute_result",
          "data": {
            "text/html": [
              "<div>\n",
              "<style scoped>\n",
              "    .dataframe tbody tr th:only-of-type {\n",
              "        vertical-align: middle;\n",
              "    }\n",
              "\n",
              "    .dataframe tbody tr th {\n",
              "        vertical-align: top;\n",
              "    }\n",
              "\n",
              "    .dataframe thead th {\n",
              "        text-align: right;\n",
              "    }\n",
              "</style>\n",
              "<table border=\"1\" class=\"dataframe\">\n",
              "  <thead>\n",
              "    <tr style=\"text-align: right;\">\n",
              "      <th></th>\n",
              "      <th>A</th>\n",
              "      <th>Apelido</th>\n",
              "      <th>AtletaID</th>\n",
              "      <th>CA</th>\n",
              "      <th>CV</th>\n",
              "      <th>ClubeID</th>\n",
              "      <th>DD</th>\n",
              "      <th>DP</th>\n",
              "      <th>FC</th>\n",
              "      <th>FD</th>\n",
              "      <th>FF</th>\n",
              "      <th>FS</th>\n",
              "      <th>FT</th>\n",
              "      <th>G</th>\n",
              "      <th>GC</th>\n",
              "      <th>GS</th>\n",
              "      <th>I</th>\n",
              "      <th>Jogos</th>\n",
              "      <th>PE</th>\n",
              "      <th>PP</th>\n",
              "      <th>Participou</th>\n",
              "      <th>Pontos</th>\n",
              "      <th>PontosMedia</th>\n",
              "      <th>Posicao</th>\n",
              "      <th>Preco</th>\n",
              "      <th>PrecoVariacao</th>\n",
              "      <th>RB</th>\n",
              "      <th>Rodada</th>\n",
              "      <th>SG</th>\n",
              "      <th>Status</th>\n",
              "      <th>ano</th>\n",
              "      <th>avg.A</th>\n",
              "      <th>avg.A.l05</th>\n",
              "      <th>avg.CA</th>\n",
              "      <th>avg.CV.l05</th>\n",
              "      <th>avg.DD</th>\n",
              "      <th>avg.DD.l05</th>\n",
              "      <th>avg.DP</th>\n",
              "      <th>avg.DP.l05</th>\n",
              "      <th>avg.FC</th>\n",
              "      <th>avg.FC.l05</th>\n",
              "      <th>avg.FD</th>\n",
              "      <th>avg.FD.l05</th>\n",
              "      <th>avg.FF</th>\n",
              "      <th>avg.FF.l05</th>\n",
              "      <th>avg.FS</th>\n",
              "      <th>avg.FS.l05</th>\n",
              "      <th>avg.FT</th>\n",
              "      <th>avg.FT.l05</th>\n",
              "      <th>avg.G</th>\n",
              "      <th>avg.G.l05</th>\n",
              "      <th>avg.GC</th>\n",
              "      <th>avg.GC.l05</th>\n",
              "      <th>avg.GS</th>\n",
              "      <th>avg.GS.l05</th>\n",
              "      <th>avg.I</th>\n",
              "      <th>avg.I.l05</th>\n",
              "      <th>avg.PE</th>\n",
              "      <th>avg.PE.l05</th>\n",
              "      <th>avg.PP</th>\n",
              "      <th>avg.PP.l05</th>\n",
              "      <th>avg.Points</th>\n",
              "      <th>avg.RB</th>\n",
              "      <th>avg.RB.l05</th>\n",
              "      <th>avg.SG</th>\n",
              "      <th>avg.SG.l05</th>\n",
              "      <th>avg.last05</th>\n",
              "      <th>away.score.x</th>\n",
              "      <th>dia</th>\n",
              "      <th>home.attack</th>\n",
              "      <th>home.defend</th>\n",
              "      <th>home.score.x</th>\n",
              "      <th>mes</th>\n",
              "      <th>pred.away.score</th>\n",
              "      <th>pred.home.score</th>\n",
              "      <th>risk_points</th>\n",
              "      <th>variable</th>\n",
              "    </tr>\n",
              "  </thead>\n",
              "  <tbody>\n",
              "    <tr>\n",
              "      <th>0</th>\n",
              "      <td>0.0</td>\n",
              "      <td>Juan</td>\n",
              "      <td>36540</td>\n",
              "      <td>1.0</td>\n",
              "      <td>0.0</td>\n",
              "      <td>Internacional</td>\n",
              "      <td>0.0</td>\n",
              "      <td>0.0</td>\n",
              "      <td>2.0</td>\n",
              "      <td>0.0</td>\n",
              "      <td>0.0</td>\n",
              "      <td>0.0</td>\n",
              "      <td>0.0</td>\n",
              "      <td>0.0</td>\n",
              "      <td>0.0</td>\n",
              "      <td>0.0</td>\n",
              "      <td>0.0</td>\n",
              "      <td>1.0</td>\n",
              "      <td>0.0</td>\n",
              "      <td>0.0</td>\n",
              "      <td>True</td>\n",
              "      <td>2.0</td>\n",
              "      <td>2.00</td>\n",
              "      <td>zag</td>\n",
              "      <td>12.88</td>\n",
              "      <td>-2.12</td>\n",
              "      <td>0.0</td>\n",
              "      <td>1</td>\n",
              "      <td>1.0</td>\n",
              "      <td>Provável</td>\n",
              "      <td>2014</td>\n",
              "      <td>0.0</td>\n",
              "      <td>1.0</td>\n",
              "      <td>0.500000</td>\n",
              "      <td>1.0</td>\n",
              "      <td>0.0</td>\n",
              "      <td>1.0</td>\n",
              "      <td>0.0</td>\n",
              "      <td>1.0</td>\n",
              "      <td>1.000000</td>\n",
              "      <td>1.0</td>\n",
              "      <td>0.000000</td>\n",
              "      <td>1.0</td>\n",
              "      <td>0.000000</td>\n",
              "      <td>1.0</td>\n",
              "      <td>0.000000</td>\n",
              "      <td>1.0</td>\n",
              "      <td>0.0</td>\n",
              "      <td>1.0</td>\n",
              "      <td>0.0</td>\n",
              "      <td>1.0</td>\n",
              "      <td>0.0</td>\n",
              "      <td>1.0</td>\n",
              "      <td>0.0</td>\n",
              "      <td>1.0</td>\n",
              "      <td>0.0</td>\n",
              "      <td>1.0</td>\n",
              "      <td>0.000000</td>\n",
              "      <td>1.0</td>\n",
              "      <td>0.0</td>\n",
              "      <td>1.0</td>\n",
              "      <td>1.000000</td>\n",
              "      <td>0.000000</td>\n",
              "      <td>1.0</td>\n",
              "      <td>0.500000</td>\n",
              "      <td>1.0</td>\n",
              "      <td>1.00</td>\n",
              "      <td>0.0</td>\n",
              "      <td>19.0</td>\n",
              "      <td>0.0</td>\n",
              "      <td>0.0</td>\n",
              "      <td>1.0</td>\n",
              "      <td>4.0</td>\n",
              "      <td>0.0</td>\n",
              "      <td>0.0</td>\n",
              "      <td>1.0</td>\n",
              "      <td>home.team</td>\n",
              "    </tr>\n",
              "    <tr>\n",
              "      <th>1</th>\n",
              "      <td>0.0</td>\n",
              "      <td>Juan</td>\n",
              "      <td>36540</td>\n",
              "      <td>0.0</td>\n",
              "      <td>0.0</td>\n",
              "      <td>Internacional</td>\n",
              "      <td>0.0</td>\n",
              "      <td>0.0</td>\n",
              "      <td>2.0</td>\n",
              "      <td>1.0</td>\n",
              "      <td>1.0</td>\n",
              "      <td>1.0</td>\n",
              "      <td>0.0</td>\n",
              "      <td>0.0</td>\n",
              "      <td>0.0</td>\n",
              "      <td>0.0</td>\n",
              "      <td>0.0</td>\n",
              "      <td>2.0</td>\n",
              "      <td>4.0</td>\n",
              "      <td>0.0</td>\n",
              "      <td>True</td>\n",
              "      <td>3.4</td>\n",
              "      <td>2.70</td>\n",
              "      <td>zag</td>\n",
              "      <td>12.04</td>\n",
              "      <td>-0.84</td>\n",
              "      <td>2.0</td>\n",
              "      <td>2</td>\n",
              "      <td>0.0</td>\n",
              "      <td>Provável</td>\n",
              "      <td>2014</td>\n",
              "      <td>0.0</td>\n",
              "      <td>1.0</td>\n",
              "      <td>0.333333</td>\n",
              "      <td>1.0</td>\n",
              "      <td>0.0</td>\n",
              "      <td>1.0</td>\n",
              "      <td>0.0</td>\n",
              "      <td>1.0</td>\n",
              "      <td>1.333333</td>\n",
              "      <td>1.0</td>\n",
              "      <td>0.333333</td>\n",
              "      <td>1.0</td>\n",
              "      <td>0.333333</td>\n",
              "      <td>1.0</td>\n",
              "      <td>0.333333</td>\n",
              "      <td>1.0</td>\n",
              "      <td>0.0</td>\n",
              "      <td>1.0</td>\n",
              "      <td>0.0</td>\n",
              "      <td>1.0</td>\n",
              "      <td>0.0</td>\n",
              "      <td>1.0</td>\n",
              "      <td>0.0</td>\n",
              "      <td>1.0</td>\n",
              "      <td>0.0</td>\n",
              "      <td>1.0</td>\n",
              "      <td>1.333333</td>\n",
              "      <td>1.0</td>\n",
              "      <td>0.0</td>\n",
              "      <td>1.0</td>\n",
              "      <td>1.800000</td>\n",
              "      <td>0.666667</td>\n",
              "      <td>1.0</td>\n",
              "      <td>0.333333</td>\n",
              "      <td>1.0</td>\n",
              "      <td>1.00</td>\n",
              "      <td>2.0</td>\n",
              "      <td>27.0</td>\n",
              "      <td>0.0</td>\n",
              "      <td>0.0</td>\n",
              "      <td>2.0</td>\n",
              "      <td>4.0</td>\n",
              "      <td>0.0</td>\n",
              "      <td>0.0</td>\n",
              "      <td>1.0</td>\n",
              "      <td>away.team</td>\n",
              "    </tr>\n",
              "    <tr>\n",
              "      <th>2</th>\n",
              "      <td>0.0</td>\n",
              "      <td>Juan</td>\n",
              "      <td>36540</td>\n",
              "      <td>1.0</td>\n",
              "      <td>0.0</td>\n",
              "      <td>Internacional</td>\n",
              "      <td>0.0</td>\n",
              "      <td>0.0</td>\n",
              "      <td>2.0</td>\n",
              "      <td>0.0</td>\n",
              "      <td>0.0</td>\n",
              "      <td>4.0</td>\n",
              "      <td>0.0</td>\n",
              "      <td>0.0</td>\n",
              "      <td>0.0</td>\n",
              "      <td>0.0</td>\n",
              "      <td>0.0</td>\n",
              "      <td>3.0</td>\n",
              "      <td>2.0</td>\n",
              "      <td>0.0</td>\n",
              "      <td>True</td>\n",
              "      <td>0.1</td>\n",
              "      <td>1.83</td>\n",
              "      <td>zag</td>\n",
              "      <td>10.85</td>\n",
              "      <td>-1.19</td>\n",
              "      <td>1.0</td>\n",
              "      <td>3</td>\n",
              "      <td>0.0</td>\n",
              "      <td>Provável</td>\n",
              "      <td>2014</td>\n",
              "      <td>0.0</td>\n",
              "      <td>1.0</td>\n",
              "      <td>0.500000</td>\n",
              "      <td>1.0</td>\n",
              "      <td>0.0</td>\n",
              "      <td>1.0</td>\n",
              "      <td>0.0</td>\n",
              "      <td>1.0</td>\n",
              "      <td>1.500000</td>\n",
              "      <td>1.0</td>\n",
              "      <td>0.250000</td>\n",
              "      <td>1.0</td>\n",
              "      <td>0.250000</td>\n",
              "      <td>1.0</td>\n",
              "      <td>1.250000</td>\n",
              "      <td>1.0</td>\n",
              "      <td>0.0</td>\n",
              "      <td>1.0</td>\n",
              "      <td>0.0</td>\n",
              "      <td>1.0</td>\n",
              "      <td>0.0</td>\n",
              "      <td>1.0</td>\n",
              "      <td>0.0</td>\n",
              "      <td>1.0</td>\n",
              "      <td>0.0</td>\n",
              "      <td>1.0</td>\n",
              "      <td>1.500000</td>\n",
              "      <td>1.0</td>\n",
              "      <td>0.0</td>\n",
              "      <td>1.0</td>\n",
              "      <td>1.375000</td>\n",
              "      <td>0.750000</td>\n",
              "      <td>1.0</td>\n",
              "      <td>0.250000</td>\n",
              "      <td>1.0</td>\n",
              "      <td>1.00</td>\n",
              "      <td>1.0</td>\n",
              "      <td>4.0</td>\n",
              "      <td>0.0</td>\n",
              "      <td>0.0</td>\n",
              "      <td>2.0</td>\n",
              "      <td>5.0</td>\n",
              "      <td>0.0</td>\n",
              "      <td>0.0</td>\n",
              "      <td>1.0</td>\n",
              "      <td>home.team</td>\n",
              "    </tr>\n",
              "    <tr>\n",
              "      <th>3</th>\n",
              "      <td>0.0</td>\n",
              "      <td>Juan</td>\n",
              "      <td>36540</td>\n",
              "      <td>0.0</td>\n",
              "      <td>0.0</td>\n",
              "      <td>Internacional</td>\n",
              "      <td>0.0</td>\n",
              "      <td>0.0</td>\n",
              "      <td>0.0</td>\n",
              "      <td>1.0</td>\n",
              "      <td>0.0</td>\n",
              "      <td>1.0</td>\n",
              "      <td>0.0</td>\n",
              "      <td>0.0</td>\n",
              "      <td>0.0</td>\n",
              "      <td>0.0</td>\n",
              "      <td>0.0</td>\n",
              "      <td>4.0</td>\n",
              "      <td>2.0</td>\n",
              "      <td>0.0</td>\n",
              "      <td>True</td>\n",
              "      <td>0.9</td>\n",
              "      <td>1.60</td>\n",
              "      <td>zag</td>\n",
              "      <td>10.61</td>\n",
              "      <td>-0.24</td>\n",
              "      <td>0.0</td>\n",
              "      <td>4</td>\n",
              "      <td>0.0</td>\n",
              "      <td>Provável</td>\n",
              "      <td>2014</td>\n",
              "      <td>0.0</td>\n",
              "      <td>0.0</td>\n",
              "      <td>0.400000</td>\n",
              "      <td>0.0</td>\n",
              "      <td>0.0</td>\n",
              "      <td>0.0</td>\n",
              "      <td>0.0</td>\n",
              "      <td>0.0</td>\n",
              "      <td>1.200000</td>\n",
              "      <td>1.2</td>\n",
              "      <td>0.400000</td>\n",
              "      <td>0.4</td>\n",
              "      <td>0.200000</td>\n",
              "      <td>0.2</td>\n",
              "      <td>1.200000</td>\n",
              "      <td>1.2</td>\n",
              "      <td>0.0</td>\n",
              "      <td>0.0</td>\n",
              "      <td>0.0</td>\n",
              "      <td>0.0</td>\n",
              "      <td>0.0</td>\n",
              "      <td>0.0</td>\n",
              "      <td>0.0</td>\n",
              "      <td>0.0</td>\n",
              "      <td>0.0</td>\n",
              "      <td>0.0</td>\n",
              "      <td>1.600000</td>\n",
              "      <td>1.6</td>\n",
              "      <td>0.0</td>\n",
              "      <td>0.0</td>\n",
              "      <td>1.280000</td>\n",
              "      <td>0.600000</td>\n",
              "      <td>0.6</td>\n",
              "      <td>0.200000</td>\n",
              "      <td>0.2</td>\n",
              "      <td>1.28</td>\n",
              "      <td>1.0</td>\n",
              "      <td>10.0</td>\n",
              "      <td>0.0</td>\n",
              "      <td>0.0</td>\n",
              "      <td>2.0</td>\n",
              "      <td>5.0</td>\n",
              "      <td>0.0</td>\n",
              "      <td>0.0</td>\n",
              "      <td>1.0</td>\n",
              "      <td>home.team</td>\n",
              "    </tr>\n",
              "    <tr>\n",
              "      <th>4</th>\n",
              "      <td>0.0</td>\n",
              "      <td>Juan</td>\n",
              "      <td>36540</td>\n",
              "      <td>1.0</td>\n",
              "      <td>0.0</td>\n",
              "      <td>Internacional</td>\n",
              "      <td>0.0</td>\n",
              "      <td>0.0</td>\n",
              "      <td>5.0</td>\n",
              "      <td>0.0</td>\n",
              "      <td>1.0</td>\n",
              "      <td>0.0</td>\n",
              "      <td>0.0</td>\n",
              "      <td>0.0</td>\n",
              "      <td>0.0</td>\n",
              "      <td>0.0</td>\n",
              "      <td>0.0</td>\n",
              "      <td>5.0</td>\n",
              "      <td>0.0</td>\n",
              "      <td>0.0</td>\n",
              "      <td>True</td>\n",
              "      <td>1.2</td>\n",
              "      <td>1.52</td>\n",
              "      <td>zag</td>\n",
              "      <td>10.45</td>\n",
              "      <td>-0.16</td>\n",
              "      <td>0.0</td>\n",
              "      <td>5</td>\n",
              "      <td>1.0</td>\n",
              "      <td>Provável</td>\n",
              "      <td>2014</td>\n",
              "      <td>0.0</td>\n",
              "      <td>0.0</td>\n",
              "      <td>0.500000</td>\n",
              "      <td>0.0</td>\n",
              "      <td>0.0</td>\n",
              "      <td>0.0</td>\n",
              "      <td>0.0</td>\n",
              "      <td>0.0</td>\n",
              "      <td>1.833333</td>\n",
              "      <td>2.2</td>\n",
              "      <td>0.333333</td>\n",
              "      <td>0.4</td>\n",
              "      <td>0.333333</td>\n",
              "      <td>0.4</td>\n",
              "      <td>1.000000</td>\n",
              "      <td>1.2</td>\n",
              "      <td>0.0</td>\n",
              "      <td>0.0</td>\n",
              "      <td>0.0</td>\n",
              "      <td>0.0</td>\n",
              "      <td>0.0</td>\n",
              "      <td>0.0</td>\n",
              "      <td>0.0</td>\n",
              "      <td>0.0</td>\n",
              "      <td>0.0</td>\n",
              "      <td>0.0</td>\n",
              "      <td>1.333333</td>\n",
              "      <td>1.6</td>\n",
              "      <td>0.0</td>\n",
              "      <td>0.0</td>\n",
              "      <td>1.266667</td>\n",
              "      <td>0.500000</td>\n",
              "      <td>0.6</td>\n",
              "      <td>0.333333</td>\n",
              "      <td>0.4</td>\n",
              "      <td>1.52</td>\n",
              "      <td>0.0</td>\n",
              "      <td>18.0</td>\n",
              "      <td>0.0</td>\n",
              "      <td>0.0</td>\n",
              "      <td>0.0</td>\n",
              "      <td>5.0</td>\n",
              "      <td>0.0</td>\n",
              "      <td>0.0</td>\n",
              "      <td>1.0</td>\n",
              "      <td>away.team</td>\n",
              "    </tr>\n",
              "  </tbody>\n",
              "</table>\n",
              "</div>"
            ],
            "text/plain": [
              "     A Apelido  AtletaID  ...  pred.home.score  risk_points   variable\n",
              "0  0.0    Juan     36540  ...              0.0          1.0  home.team\n",
              "1  0.0    Juan     36540  ...              0.0          1.0  away.team\n",
              "2  0.0    Juan     36540  ...              0.0          1.0  home.team\n",
              "3  0.0    Juan     36540  ...              0.0          1.0  home.team\n",
              "4  0.0    Juan     36540  ...              0.0          1.0  away.team\n",
              "\n",
              "[5 rows x 77 columns]"
            ]
          },
          "metadata": {
            "tags": []
          },
          "execution_count": 2
        }
      ]
    },
    {
      "cell_type": "markdown",
      "metadata": {
        "id": "gHDFOnuMWb6P",
        "colab_type": "text"
      },
      "source": [
        "### Questão 1 (2,50 pontos)\n",
        "\n",
        "Utilizando a **Teoria de  Correlação**  apresentada em sala de aula, desenvolva uma solução/estudo onde seja possível identificar as principais variáveis que caracterizam os jogadores de acordo com a sua posição. "
      ]
    },
    {
      "cell_type": "markdown",
      "metadata": {
        "id": "Lggo3nlPF27k",
        "colab_type": "text"
      },
      "source": [
        "**Resolução - Questão 1**"
      ]
    },
    {
      "cell_type": "markdown",
      "metadata": {
        "id": "oy4r0w44zo79",
        "colab_type": "text"
      },
      "source": [
        "Para a análise das caracteristicas dos jogadores de acordo com suas posições, filtramos do nosso dataset as colunas que podem nos trazer caracteristicas importantes. Sendo elas:\n",
        "\n",
        "* Posição - Posição do jogador podendo ser zagueiro, lateral, goleiro, meia, atacante e técnico.\n",
        "* FS -  Faltas sofridas\n",
        "* PE - Passes errados\n",
        "* A- Assistências\n",
        "* FT-  Finalizações na trave\n",
        "* FD- Finalizações defendidas\n",
        "* FF-\tFinalizações para fora\t\n",
        "* G-\tGols\t\n",
        "* I-\tImpedimentos\t\n",
        "* PP-\tPênaltis perdidos\t\n",
        "* RB-\tRoubadas de bola\t\n",
        "* FC-\tFaltas cometidas\t\n",
        "* GC-\tGols contra\t\n",
        "* CA-\tCartões amarelo\t\n",
        "* CV-\tCartões vermelho\t\n",
        "* SG-\tJogos sem sofrer gols\t\n",
        "* DD-\tDefesas difíceis\t\n",
        "* DP-\tDefesas de pênalti\t\n",
        "* GS-\tGols sofridos\n",
        "\n",
        "Logo após faremos a média de cada variável para cada posição e criaremos um gráfico heatmap.\n"
      ]
    },
    {
      "cell_type": "code",
      "metadata": {
        "id": "xwqjz7jYGjCK",
        "colab_type": "code",
        "outputId": "a8e41495-03e3-4237-eb80-6d2ba506567f",
        "colab": {
          "base_uri": "https://localhost:8080/",
          "height": 378
        }
      },
      "source": [
        "# Colunas que devem ser analisadas para cada posição\n",
        "colunas = ['Posicao', 'FS', 'PE', 'A', 'FT', 'FD', 'FF', 'G', 'I', 'PP', 'RB', 'FC', 'GC', 'CA', 'CV', 'SG', 'DD', 'DP', 'GS']\n",
        "\n",
        "# Vamos fazer a média de cada variável para cada posição\n",
        "medias = cartolafc[colunas].groupby(cartolafc.Posicao).mean()\n",
        "\n",
        "# Heatmap mostra quais variáveis são mais presentes em cada posição\n",
        "plt.figure(figsize=(12,6))\n",
        "sns.heatmap(medias, annot=True)\n",
        "plt.show()\n"
      ],
      "execution_count": 5,
      "outputs": [
        {
          "output_type": "display_data",
          "data": {
            "image/png": "[encoded data removed]",
            "text/plain": [
              "<Figure size 864x432 with 2 Axes>"
            ]
          },
          "metadata": {
            "tags": []
          }
        }
      ]
    },
    {
      "cell_type": "markdown",
      "metadata": {
        "id": "Slj8L35z0yaT",
        "colab_type": "text"
      },
      "source": [
        "No gráfico acima é possível ver quais os atributos caracterizam mais os jogadores de acordo com sua posição. Por exemplo, se notarmos as variáveis DD (Defesas dificeis), DP (Defesas de pênalti) e GS (Gols sofridos) são caracteristicas especificas da posição de jogador, logo, a relação das outras posições é sempre igual a zero enquanto que para a posição goleiro temos uma relação diferente. Note que embora o valor da posição gol - DP seja bem próximo de zero se compararmos com as outras posições esse valor não é insignificante.\n",
        "\n",
        "Outro ponto importante para analisarmos são as variáveis FS (Faltas sofridas) e PE (Passes errados) onde a relação nas posições zagueiro, meia, lateral e atacante são bem maiores do que a relação do goleiro. "
      ]
    },
    {
      "cell_type": "markdown",
      "metadata": {
        "id": "lm2SpeR0Wuxh",
        "colab_type": "text"
      },
      "source": [
        "### Questão 2 (2,50 pontos)\n",
        "\n",
        "Utilizando a **Métrica de Z-Score** e uma variável (ou variavéis) de sua escolha, desenvolva uma solução/estudo onde seja possível comparar o desempenho dos atacantes e goleiros quando comparado com todos os outros jogadores da mesma posição."
      ]
    },
    {
      "cell_type": "markdown",
      "metadata": {
        "id": "cGjMrnQm2qhX",
        "colab_type": "text"
      },
      "source": [
        "**Resolução - Questão 2**"
      ]
    },
    {
      "cell_type": "markdown",
      "metadata": {
        "id": "Tq4SCXKx2XG0",
        "colab_type": "text"
      },
      "source": [
        "Para comparar o desempenho dos atacantes e goleiros vamos filtrar do nosso dataset as linhas onde a coluna posição é equivalente a \"ata\" (atacante) e em seguida faremos o mesmo para \"gol\" (goleiro). Logo após iremos calcular a média e o desvio padrão para ambos. Note que iremos utilizar a coluna \"pontos\" como parâmetro, visto que ela já é feita baseada nas análises do Cartola."
      ]
    },
    {
      "cell_type": "code",
      "metadata": {
        "id": "_rZl6cnWc1jc",
        "colab_type": "code",
        "colab": {}
      },
      "source": [
        "atacantes = cartolafc[cartolafc[\"Posicao\"] == \"ata\"].copy()\n",
        "goleiros = cartolafc[cartolafc[\"Posicao\"] == \"gol\"].copy()"
      ],
      "execution_count": 0,
      "outputs": []
    },
    {
      "cell_type": "code",
      "metadata": {
        "id": "_HxsldA3hz4b",
        "colab_type": "code",
        "outputId": "f07e8a1b-f757-4b6b-b60e-17bc8dfbb438",
        "colab": {
          "base_uri": "https://localhost:8080/",
          "height": 281
        }
      },
      "source": [
        "# Começando pelos atacantes\n",
        "media_ata = cartolafc[cartolafc[\"Posicao\"] == \"ata\"][\"Pontos\"].mean()\n",
        "stdev_ata = cartolafc[cartolafc[\"Posicao\"] == \"ata\"][\"Pontos\"].std()\n",
        "\n",
        "atacantes[\"Z Score\"] = atacantes[\"Pontos\"].apply(lambda x: ((x - media_ata) / stdev_ata))\n",
        "\n",
        "ax = atacantes['Z Score'].plot.kde(xlim = (atacantes['Z Score'].min(),atacantes['Z Score'].max()))\n",
        "plt.axvline(atacantes[\"Z Score\"].mean(), color=\"red\", label=\"Média\")\n",
        "atacante = atacantes.sample(1)\n",
        "plt.axvline(float(atacante[\"Z Score\"]), color=\"green\", label=\"Jogador\")\n",
        "ax.set_title(\"Atacantes\")\n",
        "plt.legend()\n",
        "plt.show()"
      ],
      "execution_count": 7,
      "outputs": [
        {
          "output_type": "display_data",
          "data": {
            "image/png": "[encoded data removed]",
            "text/plain": [
              "<Figure size 432x288 with 1 Axes>"
            ]
          },
          "metadata": {
            "tags": []
          }
        }
      ]
    },
    {
      "cell_type": "markdown",
      "metadata": {
        "id": "r-IUhzfm3W4S",
        "colab_type": "text"
      },
      "source": [
        "No gráfico acima temos a relação dos atacantes com a pontuação. A linha azul nos mostra o Z-Score, a vermelha traz a média do Z-Score e a verde é o Z-Score de um jogador pego de forma aleatória no nosso dataset. É importante notar que a cada nova geração do gráfico um novo jogador é selecionado e é possível ver se ele está acima ou abaixo da média."
      ]
    },
    {
      "cell_type": "markdown",
      "metadata": {
        "id": "AHQvDguJ4D98",
        "colab_type": "text"
      },
      "source": [
        "Agora, faremos o mesmo procedimento feito acima para os goleiros."
      ]
    },
    {
      "cell_type": "code",
      "metadata": {
        "id": "KEVfMySph5sg",
        "colab_type": "code",
        "outputId": "ecb87430-4ce7-4acf-bb52-15a718eb657a",
        "colab": {
          "base_uri": "https://localhost:8080/",
          "height": 281
        }
      },
      "source": [
        "# Agora com os goleiros\n",
        "media_gol = cartolafc[cartolafc[\"Posicao\"] == \"gol\"][\"Pontos\"].mean()\n",
        "stdev_gol = cartolafc[cartolafc[\"Posicao\"] == \"gol\"][\"Pontos\"].std()\n",
        "\n",
        "goleiros[\"Z Score\"] = goleiros[\"Pontos\"].apply(lambda x: ((x - media_gol) / stdev_gol))\n",
        "\n",
        "ax = goleiros['Z Score'].plot.kde(xlim = (goleiros['Z Score'].min(),goleiros['Z Score'].max()))\n",
        "plt.axvline(goleiros[\"Z Score\"].mean(), color=\"red\", label=\"Média\")\n",
        "goleiro = goleiros.sample(1)\n",
        "plt.axvline(float(goleiro[\"Z Score\"]), color=\"green\", label=\"Jogador\")\n",
        "ax.set_title(\"Goleiros\")\n",
        "plt.legend()\n",
        "plt.show()"
      ],
      "execution_count": 8,
      "outputs": [
        {
          "output_type": "display_data",
          "data": {
            "image/png": "[encoded data removed]",
            "text/plain": [
              "<Figure size 432x288 with 1 Axes>"
            ]
          },
          "metadata": {
            "tags": []
          }
        }
      ]
    },
    {
      "cell_type": "markdown",
      "metadata": {
        "id": "A04x75QD4JpK",
        "colab_type": "text"
      },
      "source": [
        "No gráfico acima temos a relação dos goleiros com a pontuação. A linha azul nos mostra o Z-Score, a vermelha traz a média do Z-Score e a verde é o Z-Score de um goleiro pego de forma aleatória no nosso dataset. É importante notar que a cada nova geração do gráfico um novo goleiro é selecionado e é possível ver se ele está acima ou abaixo da média."
      ]
    },
    {
      "cell_type": "markdown",
      "metadata": {
        "id": "goN4V1PXX0EN",
        "colab_type": "text"
      },
      "source": [
        "### Questão 3 (2,00 pontos)\n",
        "\n",
        "Desenvolva uma solução/estudo onde a partir das **métricas de variância e desvio padrão**  e uma variável (ou variáveis) de sua escolha possa ser possível classificar o desempenho dos diferentes times de futebol."
      ]
    },
    {
      "cell_type": "markdown",
      "metadata": {
        "id": "XgL4EshzDBGY",
        "colab_type": "text"
      },
      "source": [
        "**Resolução - Questão 3**"
      ]
    },
    {
      "cell_type": "markdown",
      "metadata": {
        "id": "FclWCj2nDXDG",
        "colab_type": "text"
      },
      "source": [
        "Para essa análises iremos calcular a média da pontuação dos jogadoers de cada time para podermos classificar o desempenho dos diferentes times. Calcularemos a média e o desvio padrão dos pontos de cada time e iremos gerar um histograma mostrando a média, o desvio padrão e qual a classificação do time (pego de forma aleatória) em relação a essas métricas.\n"
      ]
    },
    {
      "cell_type": "code",
      "metadata": {
        "id": "JNEvY6D0c2Kh",
        "colab_type": "code",
        "outputId": "3bc907ca-85b8-4318-8e7b-add206ce70f5",
        "colab": {
          "base_uri": "https://localhost:8080/",
          "height": 392
        }
      },
      "source": [
        "times = cartolafc[['ClubeID', 'Pontos']].groupby(cartolafc.ClubeID).mean().sort_values(by=\"Pontos\", ascending=False)\n",
        "\n",
        "media = times[\"Pontos\"].mean()\n",
        "stdev = times[\"Pontos\"].std()\n",
        "\n",
        "plt.figure(figsize=(8, 6))\n",
        "plt.hist(times[\"Pontos\"], bins=9)\n",
        "plt.xlabel(\"Pontuação Média\")\n",
        "plt.ylabel(\"Frequência\")\n",
        "plt.axvline(media, color=\"black\", label=\"Média\")\n",
        "plt.axvline(media - stdev, color=\"orange\", label=\"Abaixo\")\n",
        "plt.axvline(media + stdev, color=\"orange\", label=\"Acima\")\n",
        "\n",
        "time = times.sample(1)\n",
        "plt.axvline(float(time[\"Pontos\"]), color=\"red\", label=str(time.index[0]))\n",
        "plt.legend()\n",
        "plt.show()"
      ],
      "execution_count": 9,
      "outputs": [
        {
          "output_type": "display_data",
          "data": {
            "image/png": "[encoded data removed]",
            "text/plain": [
              "<Figure size 576x432 with 1 Axes>"
            ]
          },
          "metadata": {
            "tags": []
          }
        }
      ]
    },
    {
      "cell_type": "markdown",
      "metadata": {
        "id": "B6g8K6WaD-46",
        "colab_type": "text"
      },
      "source": [
        "No gráfico acima nós temos a linha preta referente a média dos pontos, a linha vermelha referente ao time selecionado e as linhas amarelas referentes ao desvio padrão. A cada geração do gráfico um novo time é selecionado e feito a comparação em relação aos outras métricas."
      ]
    },
    {
      "cell_type": "markdown",
      "metadata": {
        "id": "svukjKmmbmWZ",
        "colab_type": "text"
      },
      "source": [
        "### Questão 4 (3,00 pontos)\n",
        "\n",
        "Utilizando a **Teoria de Probabilidade Condicional** encontre a probabilidade de um time ganhar uma partida dado que o mesmo marcou: a) um gol no jogo, b) dois gols no jogo, c) 3 gols no jogo."
      ]
    },
    {
      "cell_type": "markdown",
      "metadata": {
        "id": "cPrhHOswE3U_",
        "colab_type": "text"
      },
      "source": [
        "**Resolução - Questão 4**"
      ]
    },
    {
      "cell_type": "markdown",
      "metadata": {
        "id": "p_psYIM5EmKA",
        "colab_type": "text"
      },
      "source": [
        "Para esse caso, iremos separar as colunas mais interessantes para o nosso contexto de análise de partidas e quantidade de gols realizados e depois faremos uma verificação utilizando principalmente as colunas \"variable\", \"away.team\", \"home.team\", \"home.score.x\", \"away.score.x\".\n",
        "\n",
        "\n",
        "\n"
      ]
    },
    {
      "cell_type": "code",
      "metadata": {
        "id": "k5Zvm0i3c2xA",
        "colab_type": "code",
        "outputId": "fe387d3e-16f3-495f-be50-732c0bb4defe",
        "colab": {
          "base_uri": "https://localhost:8080/",
          "height": 119
        }
      },
      "source": [
        "#Filtragem das colunas mais interessantes\n",
        "colunas = ['ClubeID', 'mes', 'dia', 'away.score.x', 'home.score.x', 'variable', 'ganhou']\n",
        "\n",
        "#Criação da coluna auxiliar \"ganhou\" a partir das comparações obtidas\n",
        "cartolafc['ganhou'] = ((cartolafc['variable'] == 'away.team') & (cartolafc['away.score.x'] > cartolafc['home.score.x'])) | ((cartolafc['variable'] == 'home.team') & (cartolafc['home.score.x'] > cartolafc['away.score.x']))\n",
        "\n",
        "len(cartolafc[colunas])\n",
        "\n",
        "partidas = cartolafc[colunas].drop_duplicates()\n",
        "partidas['gols'] = np.where(partidas['variable'] == 'away.team', partidas['away.score.x'], partidas['home.score.x'])\n",
        "\n",
        "partidas = partidas[['ganhou', 'gols']]\n",
        "partidas\n",
        "\n",
        "print(\"A: 1 GOL\")\n",
        "caso = partidas[(partidas['ganhou'] == True) & (partidas['gols'] == 1)]\n",
        "print(round((len(caso)/len(partidas)) * 100, 2), \"%\")\n",
        "\n",
        "print(\"B: 2 GOLS\")\n",
        "caso = partidas[(partidas['ganhou'] == True) & (partidas['gols'] == 2)]\n",
        "print(round((len(caso)/len(partidas)) * 100, 2), \"%\")\n",
        "\n",
        "print(\"C: 3 GOLS\")\n",
        "caso = partidas[(partidas['ganhou'] == True) & (partidas['gols'] == 3)]\n",
        "print(round((len(caso)/len(partidas)) * 100, 2), \"%\")"
      ],
      "execution_count": 10,
      "outputs": [
        {
          "output_type": "stream",
          "text": [
            "A: 1 GOL\n",
            "12.71 %\n",
            "B: 2 GOLS\n",
            "14.15 %\n",
            "C: 3 GOLS\n",
            "7.71 %\n"
          ],
          "name": "stdout"
        }
      ]
    },
    {
      "cell_type": "markdown",
      "metadata": {
        "id": "ANOW42gnHV2C",
        "colab_type": "text"
      },
      "source": [
        "Temos que a probabilidade de um time ganhar uma partida dado que o mesmo marcou 1 gol é de 12.71%; dado que o mesmo marcou 2 gols é de 14.15%; e por fim, dado que o mesmo marcou 3 gols é de 7.71%.\n"
      ]
    }
  ]
}